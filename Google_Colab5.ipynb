{
  "nbformat": 4,
  "nbformat_minor": 0,
  "metadata": {
    "colab": {
      "provenance": [],
      "authorship_tag": "ABX9TyNxkMp91hSDN4vdDkFsNK7M",
      "include_colab_link": true
    },
    "kernelspec": {
      "name": "python3",
      "display_name": "Python 3"
    },
    "language_info": {
      "name": "python"
    }
  },
  "cells": [
    {
      "cell_type": "markdown",
      "metadata": {
        "id": "view-in-github",
        "colab_type": "text"
      },
      "source": [
        "<a href=\"https://colab.research.google.com/github/pauldebanshu19/AI-Lab/blob/main/Google_Colab.ipynb\" target=\"_parent\"><img src=\"https://colab.research.google.com/assets/colab-badge.svg\" alt=\"Open In Colab\"/></a>"
      ]
    },
    {
      "cell_type": "markdown",
      "source": [
        "# Tower Of Hanoi"
      ],
      "metadata": {
        "id": "sPUirItfNIfK"
      }
    },
    {
      "cell_type": "code",
      "execution_count": 1,
      "metadata": {
        "colab": {
          "base_uri": "https://localhost:8080/"
        },
        "id": "64bSgPoZOFyI",
        "outputId": "dde4488f-9e43-45e6-fd67-12e46a002c7e"
      },
      "outputs": [
        {
          "output_type": "stream",
          "name": "stdout",
          "text": [
            "A -> B\n",
            "A -> C\n",
            "B -> C\n",
            "A -> B\n",
            "C -> A\n",
            "C -> B\n",
            "A -> B\n"
          ]
        }
      ],
      "source": [
        "class Tower:\n",
        "  def __init__(self):\n",
        "    self.terminate=1\n",
        "\n",
        "  def printMove(self,source,destination):\n",
        "    print(\"{} -> {}\".format(source,destination))\n",
        "\n",
        "  def move(self,disc,source,destination,auxiliary):\n",
        "    if disc == 1:\n",
        "      self.printMove(source,destination)\n",
        "    else:\n",
        "      self.move(disc - 1,source,auxiliary,destination)\n",
        "      self.printMove(source,destination)\n",
        "      self.move(disc - 1,auxiliary,destination,source)\n",
        "\n",
        "t=Tower()\n",
        "t.move(3,'A','B','C')"
      ]
    },
    {
      "cell_type": "markdown",
      "source": [
        "# 8 Queens Problem"
      ],
      "metadata": {
        "id": "cJSPfsC2k8GB"
      }
    },
    {
      "cell_type": "code",
      "source": [
        "import copy\n",
        "from heapq import heappush, heappop\n",
        "\n",
        "n = 3\n",
        "\n",
        "row = [1, 0, -1, 0]\n",
        "col = [0, -1, 0, 1]\n",
        "\n",
        "\n",
        "class priorityQueue:  # Renamed class to priorityQueue\n",
        "    def __init__(self):\n",
        "        self.heap = []  # Added the heap attribute initialization\n",
        "\n",
        "    def push(self, k):\n",
        "        heappush(self.heap, k)\n",
        "\n",
        "    def pop(self):  # Removed the unnecessary k parameter\n",
        "        return heappop(self.heap)\n",
        "\n",
        "    def empty(self):\n",
        "        return len(self.heap) == 0\n",
        "\n",
        "\n",
        "class node:\n",
        "    def __init__(self, parent, mat, empty_tile_pos, cost, level):\n",
        "        self.parent = parent\n",
        "        self.mat = mat\n",
        "        self.empty_tile_pos = empty_tile_pos\n",
        "        self.cost = cost  # Added the cost attribute\n",
        "        self.level = level\n",
        "\n",
        "    def __lt__(self, nxt):\n",
        "        return self.cost < nxt.cost\n",
        "\n",
        "\n",
        "def calculateCost(mat, final) -> int:\n",
        "    count = 0\n",
        "    for i in range(n):\n",
        "        for j in range(n):\n",
        "            if mat[i][j] != 0 and mat[i][j] != final[i][j]:\n",
        "                count += 1\n",
        "    return count\n",
        "\n",
        "\n",
        "def newNode(mat, empty_tile_pos, new_empty_tile_pos, level, parent, final) -> node:\n",
        "    new_mat = copy.deepcopy(mat)\n",
        "    x1, y1 = empty_tile_pos\n",
        "    x2, y2 = new_empty_tile_pos\n",
        "    new_mat[x1][y1], new_mat[x2][y2] = new_mat[x2][y2], new_mat[x1][y1]\n",
        "    cost = calculateCost(new_mat, final)\n",
        "    return node(parent, new_mat, new_empty_tile_pos, cost, level)\n",
        "\n",
        "\n",
        "def printMatrix(mat):\n",
        "    for row in mat: # Iterate through rows\n",
        "        print(row) # Print each row as a list\n",
        "\n",
        "\n",
        "def isSafe(x, y):  # Removed self as it's not a method of a class\n",
        "    return x >= 0 and x < n and y >= 0 and y < n\n",
        "\n",
        "\n",
        "def printPath(root):  # Removed self as it's not a method of a class\n",
        "    if root == None:\n",
        "        return\n",
        "    printPath(root.parent)  # Removed self\n",
        "    printMatrix(root.mat)  # Removed self\n",
        "    print()\n",
        "\n",
        "\n",
        "def solve(initial, empty_tile_pos, final):\n",
        "    pq = priorityQueue()\n",
        "    cost = calculateCost(initial, final)\n",
        "    root = node(None, initial, empty_tile_pos, cost, 0)\n",
        "    pq.push(root)\n",
        "\n",
        "    while not pq.empty():\n",
        "        minimum = pq.pop()  # Removed the unnecessary argument\n",
        "\n",
        "        if minimum.cost == 0:\n",
        "            printPath(minimum)  # Removed self\n",
        "            return\n",
        "\n",
        "        for i in range(4):\n",
        "            new_tile_pos = [\n",
        "                minimum.empty_tile_pos[0] + row[i],\n",
        "                minimum.empty_tile_pos[1] + col[i],\n",
        "            ]\n",
        "            if isSafe(new_tile_pos[0], new_tile_pos[1]):  # Call isSafe without self\n",
        "                child = newNode(\n",
        "                    minimum.mat,\n",
        "                    minimum.empty_tile_pos,\n",
        "                    new_tile_pos,\n",
        "                    minimum.level + 1,\n",
        "                    minimum,\n",
        "                    final,\n",
        "                )\n",
        "                pq.push(child)\n",
        "\n",
        "\n",
        "initial = [[1, 2, 3], [5, 6, 0], [7, 8, 4]]\n",
        "final = [[1, 2, 3], [5, 8, 6], [0, 7, 4]]\n",
        "\n",
        "empty_tile_pos = [1, 2]\n",
        "\n",
        "solve(initial, empty_tile_pos, final)"
      ],
      "metadata": {
        "colab": {
          "base_uri": "https://localhost:8080/"
        },
        "id": "cTumumX4NQu0",
        "outputId": "0a9500fe-4525-4086-8dab-062ccef9013e"
      },
      "execution_count": null,
      "outputs": [
        {
          "output_type": "stream",
          "name": "stdout",
          "text": [
            "[1, 2, 3]\n",
            "[5, 6, 0]\n",
            "[7, 8, 4]\n",
            "\n",
            "[1, 2, 3]\n",
            "[5, 0, 6]\n",
            "[7, 8, 4]\n",
            "\n",
            "[1, 2, 3]\n",
            "[5, 8, 6]\n",
            "[7, 0, 4]\n",
            "\n",
            "[1, 2, 3]\n",
            "[5, 8, 6]\n",
            "[0, 7, 4]\n",
            "\n"
          ]
        }
      ]
    }
  ]
}
